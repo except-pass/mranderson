{
 "cells": [
  {
   "cell_type": "code",
   "execution_count": null,
   "id": "bd69aada-4ad3-4220-88bb-39900e5445a0",
   "metadata": {},
   "outputs": [
    {
     "name": "stdout",
     "output_type": "stream",
     "text": [
      "Converted sandbox.ipynb.\n"
     ]
    }
   ],
   "source": [
    "# default_exp sandbox\n",
    "# hide\n",
    "_FNAME='sandbox'\n",
    "\n",
    "import unittest\n",
    "from unittest import mock\n",
    "from nbdev.export import notebook2script\n",
    "import os\n",
    "TESTCASE = unittest.TestCase()\n",
    "_nbpath = os.path.join(_dh[0], _FNAME+'.ipynb')\n",
    "notebook2script(_nbpath)"
   ]
  },
  {
   "cell_type": "code",
   "execution_count": null,
   "id": "d7d889c5-2496-4525-bcc3-d5a7c0f96f35",
   "metadata": {},
   "outputs": [],
   "source": [
    "#export\n",
    "from mranderson import NEO4J_VERSION\n",
    "from mranderson.db import Query\n",
    "import mranderson.db as db\n",
    "import scylla"
   ]
  },
  {
   "cell_type": "code",
   "execution_count": null,
   "id": "bd6c14af-02a3-4ba0-bcf2-19824b7c26c9",
   "metadata": {},
   "outputs": [],
   "source": [
    "#export\n",
    "def is_test_data(driver=None):\n",
    "    query = Query(driver)\n",
    "    query.add(\"MATCH (t:Totem {eid:'totem'}) return t.is_test_data\")\n",
    "    try:\n",
    "        return query.single()\n",
    "    except NoSearchResults:\n",
    "        return False\n",
    "\n",
    "def is_empty(driver=None):\n",
    "    query = Query(driver)\n",
    "    query.add(\"MATCH (n) RETURN n LIMIT 1\")\n",
    "    data = query.data()\n",
    "    return len(data) == 0\n",
    "\n",
    "def create_totem(driver=None):\n",
    "    query = Query(driver)\n",
    "    query.add(\"CREATE (totem: Totem {eid:'totem', is_test_data: true})\")\n",
    "    return query.create()\n",
    "\n",
    "class NotTestDataset(Exception):\n",
    "    pass\n",
    "\n",
    "def start_fresh(driver=None):\n",
    "    if is_empty(driver):\n",
    "        return True\n",
    "    elif is_test_data(driver) is True:\n",
    "        query = Query(driver)\n",
    "        query.add(\"MATCH (n) DETACH DELETE n\")\n",
    "        query.create()\n",
    "        return True\n",
    "    else:\n",
    "        raise NotTestDataset('This dataset is not marked as \"for testing\" by a totem and will not be deleted')\n",
    "        "
   ]
  },
  {
   "cell_type": "code",
   "execution_count": null,
   "id": "3bd70598-6e01-41cd-b61c-69691c6b378b",
   "metadata": {},
   "outputs": [],
   "source": [
    "#export\n",
    "def run_neo4j(version=NEO4J_VERSION, run_on_set_ports=False, **kwargs):\n",
    "    \"\"\"Spin up a new neo4j in a docker instance if one is not already running.\n",
    "    Set the ichordb default driver to point to this test database.\n",
    "        \"\"\"\n",
    "    image = \"neo4j:{}\".format(version)\n",
    "    if run_on_set_ports:\n",
    "        ports = {7687:17687, 7474:17474, 7473:17473}\n",
    "    else:\n",
    "        ports = [7687, 7474, 7473]\n",
    "\n",
    "    additional_kwargs = {'environment': {'NEO4J_AUTH': db.DEFAULT_AUTH}}\n",
    "    additional_kwargs.update(kwargs)\n",
    "    neo4j = scylla.run_container(image, ports=ports,\n",
    "                          block_until_port_available=7474,\n",
    "                          **additional_kwargs)\n",
    "    neo4j = scylla.set_port_name(neo4j, 7687, 'bolt')\n",
    "    neo4j = scylla.set_port_name(neo4j, 7474, 'browser')\n",
    "    neo4j = scylla.set_port_name(neo4j, 7473, 'secure_browser')\n",
    "    return neo4j"
   ]
  },
  {
   "cell_type": "code",
   "execution_count": null,
   "id": "b995161d-fdb3-4000-bc0e-e508f3f7b13c",
   "metadata": {},
   "outputs": [],
   "source": [
    "#export\n",
    "def start_neo4j(*args, **kwargs):\n",
    "    '''\n",
    "    Convenience function to\n",
    "    Runs a neo4j container.  Sets the default driver to use that container\n",
    "    Returns the container and the driver objects\n",
    "    '''\n",
    "    container = run_neo4j(*args, **kwargs)\n",
    "    driver = db.make_driver(container=container)\n",
    "    db.set_default_driver(driver)\n",
    "    return container, driver"
   ]
  },
  {
   "cell_type": "code",
   "execution_count": null,
   "id": "c288afe5-0ac8-4af1-8ff7-6e66f722f942",
   "metadata": {},
   "outputs": [],
   "source": [
    "container_name = 'mranderson_unittest_sandbox'\n",
    "container, driver = start_neo4j(container_name=container_name)"
   ]
  },
  {
   "cell_type": "code",
   "execution_count": null,
   "id": "2d286bed-fd9a-4110-a848-e97cb7e0791d",
   "metadata": {},
   "outputs": [],
   "source": [
    "TESTCASE.assertTrue(start_fresh(driver=driver))\n",
    "TESTCASE.assertEqual(create_totem(driver).nodes_created, 1)"
   ]
  },
  {
   "cell_type": "code",
   "execution_count": null,
   "id": "ab2571d6-e1aa-4321-8bb3-086fca7ba91b",
   "metadata": {},
   "outputs": [
    {
     "ename": "NotFound",
     "evalue": "404 Client Error for http+docker://localhost/v1.41/containers/6a4e53fb75b68a13cee5a6ddec19762778d8a0ac4ce23b365c12a251624892a3/stop: Not Found (\"No such container: 6a4e53fb75b68a13cee5a6ddec19762778d8a0ac4ce23b365c12a251624892a3\")",
     "output_type": "error",
     "traceback": [
      "\u001b[0;31m---------------------------------------------------------------------------\u001b[0m",
      "\u001b[0;31mHTTPError\u001b[0m                                 Traceback (most recent call last)",
      "\u001b[0;32m~/repos/MRanderson/.venv/lib/python3.8/site-packages/docker/api/client.py\u001b[0m in \u001b[0;36m_raise_for_status\u001b[0;34m(self, response)\u001b[0m\n\u001b[1;32m    267\u001b[0m         \u001b[0;32mtry\u001b[0m\u001b[0;34m:\u001b[0m\u001b[0;34m\u001b[0m\u001b[0;34m\u001b[0m\u001b[0m\n\u001b[0;32m--> 268\u001b[0;31m             \u001b[0mresponse\u001b[0m\u001b[0;34m.\u001b[0m\u001b[0mraise_for_status\u001b[0m\u001b[0;34m(\u001b[0m\u001b[0;34m)\u001b[0m\u001b[0;34m\u001b[0m\u001b[0;34m\u001b[0m\u001b[0m\n\u001b[0m\u001b[1;32m    269\u001b[0m         \u001b[0;32mexcept\u001b[0m \u001b[0mrequests\u001b[0m\u001b[0;34m.\u001b[0m\u001b[0mexceptions\u001b[0m\u001b[0;34m.\u001b[0m\u001b[0mHTTPError\u001b[0m \u001b[0;32mas\u001b[0m \u001b[0me\u001b[0m\u001b[0;34m:\u001b[0m\u001b[0;34m\u001b[0m\u001b[0;34m\u001b[0m\u001b[0m\n",
      "\u001b[0;32m~/repos/MRanderson/.venv/lib/python3.8/site-packages/requests/models.py\u001b[0m in \u001b[0;36mraise_for_status\u001b[0;34m(self)\u001b[0m\n\u001b[1;32m    952\u001b[0m         \u001b[0;32mif\u001b[0m \u001b[0mhttp_error_msg\u001b[0m\u001b[0;34m:\u001b[0m\u001b[0;34m\u001b[0m\u001b[0;34m\u001b[0m\u001b[0m\n\u001b[0;32m--> 953\u001b[0;31m             \u001b[0;32mraise\u001b[0m \u001b[0mHTTPError\u001b[0m\u001b[0;34m(\u001b[0m\u001b[0mhttp_error_msg\u001b[0m\u001b[0;34m,\u001b[0m \u001b[0mresponse\u001b[0m\u001b[0;34m=\u001b[0m\u001b[0mself\u001b[0m\u001b[0;34m)\u001b[0m\u001b[0;34m\u001b[0m\u001b[0;34m\u001b[0m\u001b[0m\n\u001b[0m\u001b[1;32m    954\u001b[0m \u001b[0;34m\u001b[0m\u001b[0m\n",
      "\u001b[0;31mHTTPError\u001b[0m: 404 Client Error: Not Found for url: http+docker://localhost/v1.41/containers/6a4e53fb75b68a13cee5a6ddec19762778d8a0ac4ce23b365c12a251624892a3/stop",
      "\nDuring handling of the above exception, another exception occurred:\n",
      "\u001b[0;31mNotFound\u001b[0m                                  Traceback (most recent call last)",
      "\u001b[0;32m/tmp/ipykernel_22000/950193479.py\u001b[0m in \u001b[0;36m<module>\u001b[0;34m\u001b[0m\n\u001b[0;32m----> 1\u001b[0;31m \u001b[0mcontainer\u001b[0m\u001b[0;34m.\u001b[0m\u001b[0mstop\u001b[0m\u001b[0;34m(\u001b[0m\u001b[0;34m)\u001b[0m\u001b[0;34m\u001b[0m\u001b[0;34m\u001b[0m\u001b[0m\n\u001b[0m",
      "\u001b[0;32m~/repos/MRanderson/.venv/lib/python3.8/site-packages/docker/models/containers.py\u001b[0m in \u001b[0;36mstop\u001b[0;34m(self, **kwargs)\u001b[0m\n\u001b[1;32m    434\u001b[0m                 \u001b[0mIf\u001b[0m \u001b[0mthe\u001b[0m \u001b[0mserver\u001b[0m \u001b[0mreturns\u001b[0m \u001b[0man\u001b[0m \u001b[0merror\u001b[0m\u001b[0;34m.\u001b[0m\u001b[0;34m\u001b[0m\u001b[0;34m\u001b[0m\u001b[0m\n\u001b[1;32m    435\u001b[0m         \"\"\"\n\u001b[0;32m--> 436\u001b[0;31m         \u001b[0;32mreturn\u001b[0m \u001b[0mself\u001b[0m\u001b[0;34m.\u001b[0m\u001b[0mclient\u001b[0m\u001b[0;34m.\u001b[0m\u001b[0mapi\u001b[0m\u001b[0;34m.\u001b[0m\u001b[0mstop\u001b[0m\u001b[0;34m(\u001b[0m\u001b[0mself\u001b[0m\u001b[0;34m.\u001b[0m\u001b[0mid\u001b[0m\u001b[0;34m,\u001b[0m \u001b[0;34m**\u001b[0m\u001b[0mkwargs\u001b[0m\u001b[0;34m)\u001b[0m\u001b[0;34m\u001b[0m\u001b[0;34m\u001b[0m\u001b[0m\n\u001b[0m\u001b[1;32m    437\u001b[0m \u001b[0;34m\u001b[0m\u001b[0m\n\u001b[1;32m    438\u001b[0m     \u001b[0;32mdef\u001b[0m \u001b[0mtop\u001b[0m\u001b[0;34m(\u001b[0m\u001b[0mself\u001b[0m\u001b[0;34m,\u001b[0m \u001b[0;34m**\u001b[0m\u001b[0mkwargs\u001b[0m\u001b[0;34m)\u001b[0m\u001b[0;34m:\u001b[0m\u001b[0;34m\u001b[0m\u001b[0;34m\u001b[0m\u001b[0m\n",
      "\u001b[0;32m~/repos/MRanderson/.venv/lib/python3.8/site-packages/docker/utils/decorators.py\u001b[0m in \u001b[0;36mwrapped\u001b[0;34m(self, resource_id, *args, **kwargs)\u001b[0m\n\u001b[1;32m     17\u001b[0m                     \u001b[0;34m'Resource ID was not provided'\u001b[0m\u001b[0;34m\u001b[0m\u001b[0;34m\u001b[0m\u001b[0m\n\u001b[1;32m     18\u001b[0m                 )\n\u001b[0;32m---> 19\u001b[0;31m             \u001b[0;32mreturn\u001b[0m \u001b[0mf\u001b[0m\u001b[0;34m(\u001b[0m\u001b[0mself\u001b[0m\u001b[0;34m,\u001b[0m \u001b[0mresource_id\u001b[0m\u001b[0;34m,\u001b[0m \u001b[0;34m*\u001b[0m\u001b[0margs\u001b[0m\u001b[0;34m,\u001b[0m \u001b[0;34m**\u001b[0m\u001b[0mkwargs\u001b[0m\u001b[0;34m)\u001b[0m\u001b[0;34m\u001b[0m\u001b[0;34m\u001b[0m\u001b[0m\n\u001b[0m\u001b[1;32m     20\u001b[0m         \u001b[0;32mreturn\u001b[0m \u001b[0mwrapped\u001b[0m\u001b[0;34m\u001b[0m\u001b[0;34m\u001b[0m\u001b[0m\n\u001b[1;32m     21\u001b[0m     \u001b[0;32mreturn\u001b[0m \u001b[0mdecorator\u001b[0m\u001b[0;34m\u001b[0m\u001b[0;34m\u001b[0m\u001b[0m\n",
      "\u001b[0;32m~/repos/MRanderson/.venv/lib/python3.8/site-packages/docker/api/container.py\u001b[0m in \u001b[0;36mstop\u001b[0;34m(self, container, timeout)\u001b[0m\n\u001b[1;32m   1168\u001b[0m             \u001b[0mconn_timeout\u001b[0m \u001b[0;34m+=\u001b[0m \u001b[0mtimeout\u001b[0m\u001b[0;34m\u001b[0m\u001b[0;34m\u001b[0m\u001b[0m\n\u001b[1;32m   1169\u001b[0m         \u001b[0mres\u001b[0m \u001b[0;34m=\u001b[0m \u001b[0mself\u001b[0m\u001b[0;34m.\u001b[0m\u001b[0m_post\u001b[0m\u001b[0;34m(\u001b[0m\u001b[0murl\u001b[0m\u001b[0;34m,\u001b[0m \u001b[0mparams\u001b[0m\u001b[0;34m=\u001b[0m\u001b[0mparams\u001b[0m\u001b[0;34m,\u001b[0m \u001b[0mtimeout\u001b[0m\u001b[0;34m=\u001b[0m\u001b[0mconn_timeout\u001b[0m\u001b[0;34m)\u001b[0m\u001b[0;34m\u001b[0m\u001b[0;34m\u001b[0m\u001b[0m\n\u001b[0;32m-> 1170\u001b[0;31m         \u001b[0mself\u001b[0m\u001b[0;34m.\u001b[0m\u001b[0m_raise_for_status\u001b[0m\u001b[0;34m(\u001b[0m\u001b[0mres\u001b[0m\u001b[0;34m)\u001b[0m\u001b[0;34m\u001b[0m\u001b[0;34m\u001b[0m\u001b[0m\n\u001b[0m\u001b[1;32m   1171\u001b[0m \u001b[0;34m\u001b[0m\u001b[0m\n\u001b[1;32m   1172\u001b[0m     \u001b[0;34m@\u001b[0m\u001b[0mutils\u001b[0m\u001b[0;34m.\u001b[0m\u001b[0mcheck_resource\u001b[0m\u001b[0;34m(\u001b[0m\u001b[0;34m'container'\u001b[0m\u001b[0;34m)\u001b[0m\u001b[0;34m\u001b[0m\u001b[0;34m\u001b[0m\u001b[0m\n",
      "\u001b[0;32m~/repos/MRanderson/.venv/lib/python3.8/site-packages/docker/api/client.py\u001b[0m in \u001b[0;36m_raise_for_status\u001b[0;34m(self, response)\u001b[0m\n\u001b[1;32m    268\u001b[0m             \u001b[0mresponse\u001b[0m\u001b[0;34m.\u001b[0m\u001b[0mraise_for_status\u001b[0m\u001b[0;34m(\u001b[0m\u001b[0;34m)\u001b[0m\u001b[0;34m\u001b[0m\u001b[0;34m\u001b[0m\u001b[0m\n\u001b[1;32m    269\u001b[0m         \u001b[0;32mexcept\u001b[0m \u001b[0mrequests\u001b[0m\u001b[0;34m.\u001b[0m\u001b[0mexceptions\u001b[0m\u001b[0;34m.\u001b[0m\u001b[0mHTTPError\u001b[0m \u001b[0;32mas\u001b[0m \u001b[0me\u001b[0m\u001b[0;34m:\u001b[0m\u001b[0;34m\u001b[0m\u001b[0;34m\u001b[0m\u001b[0m\n\u001b[0;32m--> 270\u001b[0;31m             \u001b[0;32mraise\u001b[0m \u001b[0mcreate_api_error_from_http_exception\u001b[0m\u001b[0;34m(\u001b[0m\u001b[0me\u001b[0m\u001b[0;34m)\u001b[0m\u001b[0;34m\u001b[0m\u001b[0;34m\u001b[0m\u001b[0m\n\u001b[0m\u001b[1;32m    271\u001b[0m \u001b[0;34m\u001b[0m\u001b[0m\n\u001b[1;32m    272\u001b[0m     \u001b[0;32mdef\u001b[0m \u001b[0m_result\u001b[0m\u001b[0;34m(\u001b[0m\u001b[0mself\u001b[0m\u001b[0;34m,\u001b[0m \u001b[0mresponse\u001b[0m\u001b[0;34m,\u001b[0m \u001b[0mjson\u001b[0m\u001b[0;34m=\u001b[0m\u001b[0;32mFalse\u001b[0m\u001b[0;34m,\u001b[0m \u001b[0mbinary\u001b[0m\u001b[0;34m=\u001b[0m\u001b[0;32mFalse\u001b[0m\u001b[0;34m)\u001b[0m\u001b[0;34m:\u001b[0m\u001b[0;34m\u001b[0m\u001b[0;34m\u001b[0m\u001b[0m\n",
      "\u001b[0;32m~/repos/MRanderson/.venv/lib/python3.8/site-packages/docker/errors.py\u001b[0m in \u001b[0;36mcreate_api_error_from_http_exception\u001b[0;34m(e)\u001b[0m\n\u001b[1;32m     29\u001b[0m         \u001b[0;32melse\u001b[0m\u001b[0;34m:\u001b[0m\u001b[0;34m\u001b[0m\u001b[0;34m\u001b[0m\u001b[0m\n\u001b[1;32m     30\u001b[0m             \u001b[0mcls\u001b[0m \u001b[0;34m=\u001b[0m \u001b[0mNotFound\u001b[0m\u001b[0;34m\u001b[0m\u001b[0;34m\u001b[0m\u001b[0m\n\u001b[0;32m---> 31\u001b[0;31m     \u001b[0;32mraise\u001b[0m \u001b[0mcls\u001b[0m\u001b[0;34m(\u001b[0m\u001b[0me\u001b[0m\u001b[0;34m,\u001b[0m \u001b[0mresponse\u001b[0m\u001b[0;34m=\u001b[0m\u001b[0mresponse\u001b[0m\u001b[0;34m,\u001b[0m \u001b[0mexplanation\u001b[0m\u001b[0;34m=\u001b[0m\u001b[0mexplanation\u001b[0m\u001b[0;34m)\u001b[0m\u001b[0;34m\u001b[0m\u001b[0;34m\u001b[0m\u001b[0m\n\u001b[0m\u001b[1;32m     32\u001b[0m \u001b[0;34m\u001b[0m\u001b[0m\n\u001b[1;32m     33\u001b[0m \u001b[0;34m\u001b[0m\u001b[0m\n",
      "\u001b[0;31mNotFound\u001b[0m: 404 Client Error for http+docker://localhost/v1.41/containers/6a4e53fb75b68a13cee5a6ddec19762778d8a0ac4ce23b365c12a251624892a3/stop: Not Found (\"No such container: 6a4e53fb75b68a13cee5a6ddec19762778d8a0ac4ce23b365c12a251624892a3\")"
     ]
    }
   ],
   "source": [
    "container.stop()"
   ]
  }
 ],
 "metadata": {
  "kernelspec": {
   "display_name": "Python 3 (ipykernel)",
   "language": "python",
   "name": "python3"
  }
 },
 "nbformat": 4,
 "nbformat_minor": 5
}
