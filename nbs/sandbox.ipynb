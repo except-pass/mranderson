{
 "cells": [
  {
   "cell_type": "code",
   "execution_count": null,
   "id": "bd69aada-4ad3-4220-88bb-39900e5445a0",
   "metadata": {},
   "outputs": [
    {
     "name": "stdout",
     "output_type": "stream",
     "text": [
      "Converted sandbox.ipynb.\n"
     ]
    }
   ],
   "source": [
    "# default_exp sandbox\n",
    "# hide\n",
    "_FNAME='sandbox'\n",
    "\n",
    "import unittest\n",
    "from unittest import mock\n",
    "from nbdev.export import notebook2script\n",
    "import os\n",
    "TESTCASE = unittest.TestCase()\n",
    "_nbpath = os.path.join(_dh[0], _FNAME+'.ipynb')"
   ]
  },
  {
   "cell_type": "code",
   "execution_count": null,
   "id": "d7d889c5-2496-4525-bcc3-d5a7c0f96f35",
   "metadata": {},
   "outputs": [],
   "source": [
    "#export\n",
    "from mranderson import NEO4J_VERSION\n",
    "from mranderson.db import Query\n",
    "import mranderson.db as db\n",
    "import scylla"
   ]
  },
  {
   "cell_type": "code",
   "execution_count": null,
   "id": "7a642dfb-1351-483a-bd59-2997f5bf2b66",
   "metadata": {},
   "outputs": [
    {
     "data": {
      "text/plain": [
       "<RootLogger root (DEBUG)>"
      ]
     },
     "execution_count": null,
     "metadata": {},
     "output_type": "execute_result"
    }
   ],
   "source": [
    "from mranderson import start_log\n",
    "start_log()"
   ]
  },
  {
   "cell_type": "code",
   "execution_count": null,
   "id": "bd6c14af-02a3-4ba0-bcf2-19824b7c26c9",
   "metadata": {},
   "outputs": [],
   "source": [
    "#export\n",
    "def is_test_data(driver=None):\n",
    "    query = Query(driver)\n",
    "    query.add(\"MATCH (t:Totem {eid:'totem'}) return t.is_test_data\")\n",
    "    try:\n",
    "        return query.single()\n",
    "    except NoSearchResults:\n",
    "        return False\n",
    "\n",
    "def is_empty(driver=None):\n",
    "    query = Query(driver)\n",
    "    query.add(\"MATCH (n) RETURN n LIMIT 1\")\n",
    "    data = query.data()\n",
    "    return len(data) == 0\n",
    "\n",
    "def create_totem(driver=None):\n",
    "    query = Query(driver)\n",
    "    query.add(\"CREATE (totem: Totem {eid:'totem', is_test_data: true})\")\n",
    "    return query.create()\n",
    "\n",
    "class NotTestDataset(Exception):\n",
    "    pass\n",
    "\n",
    "def start_fresh(driver=None):\n",
    "    if is_empty(driver):\n",
    "        return True\n",
    "    elif is_test_data(driver) is True:\n",
    "        query = Query(driver)\n",
    "        query.add(\"MATCH (n) DETACH DELETE n\")\n",
    "        query.create()\n",
    "        return True\n",
    "    else:\n",
    "        raise NotTestDataset('This dataset is not marked as \"for testing\" by a totem and will not be deleted')\n",
    "        "
   ]
  },
  {
   "cell_type": "code",
   "execution_count": null,
   "id": "3bd70598-6e01-41cd-b61c-69691c6b378b",
   "metadata": {},
   "outputs": [],
   "source": [
    "#export\n",
    "def run_neo4j(version=NEO4J_VERSION, run_on_set_ports=False, **kwargs):\n",
    "    \"\"\"Spin up a new neo4j in a docker instance if one is not already running.\n",
    "    Set the ichordb default driver to point to this test database.\n",
    "        \"\"\"\n",
    "    image = \"neo4j:{}\".format(version)\n",
    "    if run_on_set_ports:\n",
    "        ports = {7687:17687, 7474:17474, 7473:17473}\n",
    "    else:\n",
    "        ports = [7687, 7474, 7473]\n",
    "\n",
    "    additional_kwargs = {'environment': {'NEO4J_AUTH': db.DEFAULT_AUTH}}\n",
    "    additional_kwargs.update(kwargs)\n",
    "    neo4j = scylla.run_container(image, ports=ports,\n",
    "                          block_until_port_available=7474,\n",
    "                          **additional_kwargs)\n",
    "    neo4j = scylla.set_port_name(neo4j, 7687, 'bolt')\n",
    "    neo4j = scylla.set_port_name(neo4j, 7474, 'browser')\n",
    "    neo4j = scylla.set_port_name(neo4j, 7473, 'secure_browser')\n",
    "    return neo4j"
   ]
  },
  {
   "cell_type": "code",
   "execution_count": null,
   "id": "b995161d-fdb3-4000-bc0e-e508f3f7b13c",
   "metadata": {},
   "outputs": [],
   "source": [
    "#export\n",
    "def start_neo4j(*args, **kwargs):\n",
    "    '''\n",
    "    Convenience function to\n",
    "    Runs a neo4j container.  Sets the default driver to use that container\n",
    "    Returns the container and the driver objects\n",
    "    '''\n",
    "    container = run_neo4j(*args, **kwargs)\n",
    "    driver = db.make_driver(container=container)\n",
    "    db.set_default_driver(driver)\n",
    "    return container, driver"
   ]
  },
  {
   "cell_type": "code",
   "execution_count": null,
   "id": "c288afe5-0ac8-4af1-8ff7-6e66f722f942",
   "metadata": {},
   "outputs": [
    {
     "name": "stderr",
     "output_type": "stream",
     "text": [
      "[DEBUG] config(find_config_file)2021-08-11 15:14:17,066--> 21.\t Trying paths: ['/home/ubuntu/.docker/config.json', '/home/ubuntu/.dockercfg']\n",
      "[DEBUG] config(find_config_file)2021-08-11 15:14:17,068--> 25.\t Found file at path: /home/ubuntu/.docker/config.json\n",
      "[DEBUG] auth(load_config)2021-08-11 15:14:17,069--> 182.\t Found 'auths' section\n",
      "[DEBUG] auth(parse_auth)2021-08-11 15:14:17,070--> 142.\t Found entry (registry='379343436335.dkr.ecr.us-east-1.amazonaws.com', username='AWS')\n",
      "[DEBUG] auth(parse_auth)2021-08-11 15:14:17,071--> 142.\t Found entry (registry='https://index.docker.io/v1/', username='wgathright')\n",
      "[DEBUG] connectionpool(_make_request)2021-08-11 15:14:17,089--> 452.\t http://localhost:None \"GET /version HTTP/1.1\" 200 847\n",
      "[DEBUG] connectionpool(_make_request)2021-08-11 15:14:17,094--> 452.\t http://localhost:None \"GET /v1.41/containers/mranderson_unittest_sandbox/json HTTP/1.1\" 404 61\n",
      "[DEBUG] connectionpool(_make_request)2021-08-11 15:14:17,150--> 452.\t http://localhost:None \"POST /v1.41/containers/create?name=mranderson_unittest_sandbox HTTP/1.1\" 201 88\n",
      "[DEBUG] connectionpool(_make_request)2021-08-11 15:14:17,156--> 452.\t http://localhost:None \"GET /v1.41/containers/cc0cbf51425b9fbad340bec28c209ba1835f2fe893eb4881c7bdae36abe5f303/json HTTP/1.1\" 200 None\n",
      "[DEBUG] connectionpool(_make_request)2021-08-11 15:14:17,553--> 452.\t http://localhost:None \"POST /v1.41/containers/cc0cbf51425b9fbad340bec28c209ba1835f2fe893eb4881c7bdae36abe5f303/start HTTP/1.1\" 204 0\n",
      "[DEBUG] connectionpool(_make_request)2021-08-11 15:14:17,558--> 452.\t http://localhost:None \"GET /v1.41/containers/cc0cbf51425b9fbad340bec28c209ba1835f2fe893eb4881c7bdae36abe5f303/json HTTP/1.1\" 200 None\n",
      "[DEBUG] __init__(block_for_startup)2021-08-11 15:14:17,564--> 116.\t Waiting for avilability of {'HostIp': '0.0.0.0', 'HostPort': '8398'}\n",
      "[DEBUG] connectionpool(_new_conn)2021-08-11 15:14:17,575--> 227.\t Starting new HTTP connection (1): 0.0.0.0:8398\n",
      "[DEBUG] __init__(block_for_startup)2021-08-11 15:14:18,581--> 116.\t Waiting for avilability of {'HostIp': '0.0.0.0', 'HostPort': '8398'}\n",
      "[DEBUG] connectionpool(_new_conn)2021-08-11 15:14:18,586--> 227.\t Starting new HTTP connection (1): 0.0.0.0:8398\n",
      "[DEBUG] __init__(block_for_startup)2021-08-11 15:14:19,597--> 116.\t Waiting for avilability of {'HostIp': '0.0.0.0', 'HostPort': '8398'}\n",
      "[DEBUG] connectionpool(_new_conn)2021-08-11 15:14:19,603--> 227.\t Starting new HTTP connection (1): 0.0.0.0:8398\n",
      "[DEBUG] __init__(block_for_startup)2021-08-11 15:14:20,613--> 116.\t Waiting for avilability of {'HostIp': '0.0.0.0', 'HostPort': '8398'}\n",
      "[DEBUG] connectionpool(_new_conn)2021-08-11 15:14:20,616--> 227.\t Starting new HTTP connection (1): 0.0.0.0:8398\n",
      "[DEBUG] __init__(block_for_startup)2021-08-11 15:14:21,622--> 116.\t Waiting for avilability of {'HostIp': '0.0.0.0', 'HostPort': '8398'}\n",
      "[DEBUG] connectionpool(_new_conn)2021-08-11 15:14:21,626--> 227.\t Starting new HTTP connection (1): 0.0.0.0:8398\n",
      "[DEBUG] __init__(block_for_startup)2021-08-11 15:14:22,630--> 116.\t Waiting for avilability of {'HostIp': '0.0.0.0', 'HostPort': '8398'}\n",
      "[DEBUG] connectionpool(_new_conn)2021-08-11 15:14:22,634--> 227.\t Starting new HTTP connection (1): 0.0.0.0:8398\n",
      "[DEBUG] __init__(block_for_startup)2021-08-11 15:14:23,643--> 116.\t Waiting for avilability of {'HostIp': '0.0.0.0', 'HostPort': '8398'}\n",
      "[DEBUG] connectionpool(_new_conn)2021-08-11 15:14:23,646--> 227.\t Starting new HTTP connection (1): 0.0.0.0:8398\n",
      "[DEBUG] __init__(block_for_startup)2021-08-11 15:14:24,650--> 116.\t Waiting for avilability of {'HostIp': '0.0.0.0', 'HostPort': '8398'}\n",
      "[DEBUG] connectionpool(_new_conn)2021-08-11 15:14:24,654--> 227.\t Starting new HTTP connection (1): 0.0.0.0:8398\n",
      "[DEBUG] __init__(block_for_startup)2021-08-11 15:14:25,657--> 116.\t Waiting for avilability of {'HostIp': '0.0.0.0', 'HostPort': '8398'}\n",
      "[DEBUG] connectionpool(_new_conn)2021-08-11 15:14:25,661--> 227.\t Starting new HTTP connection (1): 0.0.0.0:8398\n",
      "[DEBUG] __init__(block_for_startup)2021-08-11 15:14:26,665--> 116.\t Waiting for avilability of {'HostIp': '0.0.0.0', 'HostPort': '8398'}\n",
      "[DEBUG] connectionpool(_new_conn)2021-08-11 15:14:26,669--> 227.\t Starting new HTTP connection (1): 0.0.0.0:8398\n",
      "[DEBUG] __init__(block_for_startup)2021-08-11 15:14:27,672--> 116.\t Waiting for avilability of {'HostIp': '0.0.0.0', 'HostPort': '8398'}\n",
      "[DEBUG] connectionpool(_new_conn)2021-08-11 15:14:27,676--> 227.\t Starting new HTTP connection (1): 0.0.0.0:8398\n",
      "[DEBUG] __init__(block_for_startup)2021-08-11 15:14:28,679--> 116.\t Waiting for avilability of {'HostIp': '0.0.0.0', 'HostPort': '8398'}\n",
      "[DEBUG] connectionpool(_new_conn)2021-08-11 15:14:28,683--> 227.\t Starting new HTTP connection (1): 0.0.0.0:8398\n",
      "[DEBUG] __init__(block_for_startup)2021-08-11 15:14:29,686--> 116.\t Waiting for avilability of {'HostIp': '0.0.0.0', 'HostPort': '8398'}\n",
      "[DEBUG] connectionpool(_new_conn)2021-08-11 15:14:29,692--> 227.\t Starting new HTTP connection (1): 0.0.0.0:8398\n",
      "[DEBUG] __init__(block_for_startup)2021-08-11 15:14:30,701--> 116.\t Waiting for avilability of {'HostIp': '0.0.0.0', 'HostPort': '8398'}\n",
      "[DEBUG] connectionpool(_new_conn)2021-08-11 15:14:30,708--> 227.\t Starting new HTTP connection (1): 0.0.0.0:8398\n",
      "[DEBUG] __init__(block_for_startup)2021-08-11 15:14:31,718--> 116.\t Waiting for avilability of {'HostIp': '0.0.0.0', 'HostPort': '8398'}\n",
      "[DEBUG] connectionpool(_new_conn)2021-08-11 15:14:31,724--> 227.\t Starting new HTTP connection (1): 0.0.0.0:8398\n",
      "[DEBUG] __init__(block_for_startup)2021-08-11 15:14:32,733--> 116.\t Waiting for avilability of {'HostIp': '0.0.0.0', 'HostPort': '8398'}\n",
      "[DEBUG] connectionpool(_new_conn)2021-08-11 15:14:32,740--> 227.\t Starting new HTTP connection (1): 0.0.0.0:8398\n",
      "[DEBUG] __init__(block_for_startup)2021-08-11 15:14:33,749--> 116.\t Waiting for avilability of {'HostIp': '0.0.0.0', 'HostPort': '8398'}\n",
      "[DEBUG] connectionpool(_new_conn)2021-08-11 15:14:33,752--> 227.\t Starting new HTTP connection (1): 0.0.0.0:8398\n",
      "[DEBUG] __init__(block_for_startup)2021-08-11 15:14:34,761--> 116.\t Waiting for avilability of {'HostIp': '0.0.0.0', 'HostPort': '8398'}\n",
      "[DEBUG] connectionpool(_new_conn)2021-08-11 15:14:34,767--> 227.\t Starting new HTTP connection (1): 0.0.0.0:8398\n",
      "[DEBUG] __init__(block_for_startup)2021-08-11 15:14:35,777--> 116.\t Waiting for avilability of {'HostIp': '0.0.0.0', 'HostPort': '8398'}\n",
      "[DEBUG] connectionpool(_new_conn)2021-08-11 15:14:35,781--> 227.\t Starting new HTTP connection (1): 0.0.0.0:8398\n",
      "[DEBUG] __init__(block_for_startup)2021-08-11 15:14:36,783--> 116.\t Waiting for avilability of {'HostIp': '0.0.0.0', 'HostPort': '8398'}\n",
      "[DEBUG] connectionpool(_new_conn)2021-08-11 15:14:36,798--> 227.\t Starting new HTTP connection (1): 0.0.0.0:8398\n",
      "[DEBUG] __init__(block_for_startup)2021-08-11 15:14:37,809--> 116.\t Waiting for avilability of {'HostIp': '0.0.0.0', 'HostPort': '8398'}\n",
      "[DEBUG] connectionpool(_new_conn)2021-08-11 15:14:37,817--> 227.\t Starting new HTTP connection (1): 0.0.0.0:8398\n",
      "[DEBUG] __init__(block_for_startup)2021-08-11 15:14:38,830--> 116.\t Waiting for avilability of {'HostIp': '0.0.0.0', 'HostPort': '8398'}\n",
      "[DEBUG] connectionpool(_new_conn)2021-08-11 15:14:38,834--> 227.\t Starting new HTTP connection (1): 0.0.0.0:8398\n",
      "[DEBUG] connectionpool(_make_request)2021-08-11 15:14:39,015--> 452.\t http://0.0.0.0:8398 \"GET / HTTP/1.1\" 200 210\n"
     ]
    }
   ],
   "source": [
    "container_name = 'mranderson_unittest_sandbox'\n",
    "container, driver = start_neo4j(container_name=container_name)"
   ]
  },
  {
   "cell_type": "code",
   "execution_count": null,
   "id": "2d286bed-fd9a-4110-a848-e97cb7e0791d",
   "metadata": {},
   "outputs": [
    {
     "name": "stderr",
     "output_type": "stream",
     "text": [
      "[DEBUG] addressing(resolve)2021-08-11 15:14:39,030--> 185.\t [#0000]  C: <RESOLVE> 0.0.0.0:8397\n",
      "[DEBUG] __init__(_connect)2021-08-11 15:14:39,032--> 1180.\t [#0000]  C: <OPEN> 0.0.0.0:8397\n",
      "[DEBUG] __init__(_handshake)2021-08-11 15:14:39,037--> 1243.\t [#CF48]  C: <MAGIC> 0x6060B017\n",
      "[DEBUG] __init__(_handshake)2021-08-11 15:14:39,038--> 1244.\t [#CF48]  C: <HANDSHAKE> 0x00030304 0x00000104 0x00000004 0x00000003\n",
      "[DEBUG] __init__(_handshake)2021-08-11 15:14:39,123--> 1276.\t [#CF48]  S: <HANDSHAKE> 0x00000304\n",
      "[DEBUG] _bolt4(hello)2021-08-11 15:14:39,124--> 401.\t [#CF48]  C: HELLO {'user_agent': 'neo4j-python/4.3.4 Python/3.8.0-final-0 (linux)', 'scheme': 'basic', 'principal': 'neo4j', 'credentials': '*******'}\n",
      "[DEBUG] _bolt4(fetch_message)2021-08-11 15:14:39,197--> 263.\t [#CF48]  S: SUCCESS {'server': 'Neo4j/4.3.2', 'connection_id': 'bolt-1', 'hints': {}}\n",
      "[DEBUG] _bolt4(run)2021-08-11 15:14:39,201--> 163.\t [#CF48]  C: RUN 'MATCH (n) RETURN n LIMIT 1' {} {}\n",
      "[DEBUG] _bolt4(pull)2021-08-11 15:14:39,202--> 181.\t [#CF48]  C: PULL {'n': 1000}\n",
      "[DEBUG] _bolt4(fetch_message)2021-08-11 15:14:41,387--> 263.\t [#CF48]  S: SUCCESS {'t_first': 2105, 'fields': ['n']}\n",
      "[DEBUG] _bolt4(fetch_message)2021-08-11 15:14:41,388--> 263.\t [#CF48]  S: SUCCESS {'bookmark': 'FB:kcwQTKkiSYOkR2u1/DVUDdLbswOQ', 'type': 'r', 't_last': 21, 'db': 'neo4j'}\n",
      "[DEBUG] _bolt4(reset)2021-08-11 15:14:41,389--> 227.\t [#CF48]  C: RESET\n",
      "[DEBUG] _bolt4(fetch_message)2021-08-11 15:14:41,397--> 263.\t [#CF48]  S: SUCCESS {}\n",
      "[DEBUG] _bolt4(run)2021-08-11 15:14:41,398--> 163.\t [#CF48]  C: RUN \"CREATE (totem: Totem {eid:'totem', is_test_data: true})\" {} {}\n",
      "[DEBUG] _bolt4(pull)2021-08-11 15:14:41,399--> 181.\t [#CF48]  C: PULL {'n': 1000}\n",
      "[DEBUG] _bolt4(fetch_message)2021-08-11 15:14:41,606--> 263.\t [#CF48]  S: SUCCESS {'t_first': 199, 'fields': []}\n",
      "[DEBUG] _bolt4(fetch_message)2021-08-11 15:14:41,608--> 263.\t [#CF48]  S: SUCCESS {'bookmark': 'FB:kcwQTKkiSYOkR2u1/DVUDdLbsweQ', 'stats': {'labels-added': 1, 'nodes-created': 1, 'properties-set': 2}, 'type': 'w', 't_last': 0, 'db': 'neo4j'}\n",
      "[DEBUG] _bolt4(reset)2021-08-11 15:14:41,609--> 227.\t [#CF48]  C: RESET\n",
      "[DEBUG] _bolt4(fetch_message)2021-08-11 15:14:41,611--> 263.\t [#CF48]  S: SUCCESS {}\n"
     ]
    }
   ],
   "source": [
    "TESTCASE.assertTrue(start_fresh(driver=driver))\n",
    "TESTCASE.assertEqual(create_totem(driver).nodes_created, 1)"
   ]
  },
  {
   "cell_type": "code",
   "execution_count": null,
   "id": "ab2571d6-e1aa-4321-8bb3-086fca7ba91b",
   "metadata": {},
   "outputs": [],
   "source": [
    "container.stop()"
   ]
  },
  {
   "cell_type": "code",
   "execution_count": null,
   "id": "838c86cb-78be-46c2-aeba-c7ee4993618c",
   "metadata": {},
   "outputs": [],
   "source": [
    "notebook2script(_nbpath)"
   ]
  }
 ],
 "metadata": {
  "kernelspec": {
   "display_name": "Python 3 (ipykernel)",
   "language": "python",
   "name": "python3"
  }
 },
 "nbformat": 4,
 "nbformat_minor": 5
}
