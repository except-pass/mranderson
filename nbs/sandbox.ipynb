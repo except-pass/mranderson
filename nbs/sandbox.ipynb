{
 "cells": [
  {
   "cell_type": "code",
   "execution_count": 1,
   "id": "bd69aada-4ad3-4220-88bb-39900e5445a0",
   "metadata": {},
   "outputs": [
    {
     "name": "stdout",
     "output_type": "stream",
     "text": [
      "Converted sandbox.ipynb.\n"
     ]
    }
   ],
   "source": [
    "# default_exp sandbox\n",
    "# hide\n",
    "_FNAME='sandbox'\n",
    "\n",
    "import unittest\n",
    "from unittest import mock\n",
    "from nbdev.export import notebook2script\n",
    "import os\n",
    "TESTCASE = unittest.TestCase()\n",
    "_nbpath = os.path.join(_dh[0], _FNAME+'.ipynb')\n",
    "notebook2script(_nbpath)"
   ]
  },
  {
   "cell_type": "code",
   "execution_count": 2,
   "id": "d7d889c5-2496-4525-bcc3-d5a7c0f96f35",
   "metadata": {},
   "outputs": [],
   "source": [
    "#export\n",
    "from mranderson import NEO4J_VERSION\n",
    "from mranderson.db import Query\n",
    "import mranderson.db as db\n",
    "import scylla"
   ]
  },
  {
   "cell_type": "code",
   "execution_count": 3,
   "id": "bd6c14af-02a3-4ba0-bcf2-19824b7c26c9",
   "metadata": {},
   "outputs": [],
   "source": [
    "#export\n",
    "def is_test_data(driver=None):\n",
    "    query = Query(driver)\n",
    "    query.add(\"MATCH (t:Totem {eid:'totem'}) return t.is_test_data\")\n",
    "    try:\n",
    "        return query.single()\n",
    "    except NoSearchResults:\n",
    "        return False\n",
    "\n",
    "def is_empty(driver=None):\n",
    "    query = Query(driver)\n",
    "    query.add(\"MATCH (n) RETURN n LIMIT 1\")\n",
    "    data = query.data()\n",
    "    return len(data) == 0\n",
    "\n",
    "def create_totem(driver=None):\n",
    "    query = Query(driver)\n",
    "    query.add(\"CREATE (totem: Totem {eid:'totem', is_test_data: true})\")\n",
    "    return query.create()\n",
    "\n",
    "class NotTestDataset(Exception):\n",
    "    pass\n",
    "\n",
    "\n",
    "def start_fresh(driver=None):\n",
    "    if is_empty(driver):\n",
    "        return True\n",
    "    elif is_test_data(driver) is True:\n",
    "        query = Query(driver)\n",
    "        query.add(\"MATCH (n) DETACH DELETE n\")\n",
    "        query.create()\n",
    "        return True\n",
    "    else:\n",
    "        raise NotTestDataset('This dataset is not marked as \"for testing\" by a totem and will not be deleted')\n",
    "        "
   ]
  },
  {
   "cell_type": "code",
   "execution_count": 4,
   "id": "3bd70598-6e01-41cd-b61c-69691c6b378b",
   "metadata": {},
   "outputs": [],
   "source": [
    "#export\n",
    "def run_neo4j(version=NEO4J_VERSION, run_on_set_ports=False, **kwargs):\n",
    "    \"\"\"Spin up a new neo4j in a docker instance if one is not already running.\n",
    "    Set the ichordb default driver to point to this test database.\n",
    "        \"\"\"\n",
    "    image = \"neo4j:{}\".format(version)\n",
    "    if run_on_set_ports:\n",
    "        ports = {7687:17687, 7474:17474, 7473:17473}\n",
    "    else:\n",
    "        ports = [7687, 7474, 7473]\n",
    "\n",
    "    additional_kwargs = {'environment': {'NEO4J_AUTH': db.DEFAULT_AUTH}}\n",
    "    additional_kwargs.update(kwargs)\n",
    "    neo4j = scylla.run_container(image, ports=ports,\n",
    "                          block_until_port_available=7474,\n",
    "                          **additional_kwargs)\n",
    "    neo4j = scylla.set_port_name(neo4j, 7687, 'bolt')\n",
    "    neo4j = scylla.set_port_name(neo4j, 7474, 'browser')\n",
    "    neo4j = scylla.set_port_name(neo4j, 7473, 'secure_browser')\n",
    "    return neo4j"
   ]
  },
  {
   "cell_type": "code",
   "execution_count": 5,
   "id": "b995161d-fdb3-4000-bc0e-e508f3f7b13c",
   "metadata": {},
   "outputs": [],
   "source": [
    "#export\n",
    "def start_neo4j(*args, **kwargs):\n",
    "    '''\n",
    "    Convenience function to\n",
    "    Runs a neo4j container and returns the container and the driver\n",
    "    '''\n",
    "    container = run_neo4j(*args, **kwargs)\n",
    "    driver = db.make_driver(container=container)\n",
    "    db.set_default_driver(driver)\n",
    "    return container, driver"
   ]
  },
  {
   "cell_type": "code",
   "execution_count": 6,
   "id": "c288afe5-0ac8-4af1-8ff7-6e66f722f942",
   "metadata": {},
   "outputs": [],
   "source": [
    "container_name = 'mranderson_unittest_sandbox'\n",
    "container, driver = start_neo4j(container_name=container_name)"
   ]
  },
  {
   "cell_type": "code",
   "execution_count": 7,
   "id": "2d286bed-fd9a-4110-a848-e97cb7e0791d",
   "metadata": {},
   "outputs": [],
   "source": [
    "TESTCASE.assertTrue(start_fresh(driver=driver))\n",
    "TESTCASE.assertEqual(create_totem(driver).nodes_created, 1)"
   ]
  },
  {
   "cell_type": "code",
   "execution_count": 8,
   "id": "ab2571d6-e1aa-4321-8bb3-086fca7ba91b",
   "metadata": {},
   "outputs": [],
   "source": [
    "container.stop()"
   ]
  }
 ],
 "metadata": {
  "kernelspec": {
   "display_name": "Python 3 (ipykernel)",
   "language": "python",
   "name": "python3"
  },
  "language_info": {
   "codemirror_mode": {
    "name": "ipython",
    "version": 3
   },
   "file_extension": ".py",
   "mimetype": "text/x-python",
   "name": "python",
   "nbconvert_exporter": "python",
   "pygments_lexer": "ipython3",
   "version": "3.8.0"
  }
 },
 "nbformat": 4,
 "nbformat_minor": 5
}
