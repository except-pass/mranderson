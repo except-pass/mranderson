{
 "cells": [
  {
   "cell_type": "code",
   "execution_count": null,
   "metadata": {},
   "outputs": [],
   "source": [
    "#hide\n"
   ]
  },
  {
   "cell_type": "markdown",
   "metadata": {},
   "source": [
    "# Mr. Anderson\n",
    "\n",
    "Expect simple access to Neo(4J)\n",
    "\n",
    "\n",
    "> Agent Smith: You look surprised to see me, again, Mr. Anderson. That's the difference between us. I've been *expecting* you."
   ]
  },
  {
   "cell_type": "markdown",
   "metadata": {},
   "source": [
    "## Quick Start"
   ]
  },
  {
   "cell_type": "code",
   "execution_count": null,
   "metadata": {},
   "outputs": [],
   "source": [
    "from mranderson import Query\n",
    "\n",
    "q = Query()\n",
    "q.add(\"MATCH (n)\")\n",
    "q.add(\"RETURN n LIMIT 2\")"
   ]
  },
  {
   "cell_type": "markdown",
   "metadata": {},
   "source": [
    "Under the hood, this generate the cypher query"
   ]
  },
  {
   "cell_type": "code",
   "execution_count": null,
   "metadata": {},
   "outputs": [
    {
     "data": {
      "text/plain": [
       "'MATCH (n) RETURN n LIMIT 2'"
      ]
     },
     "execution_count": null,
     "metadata": {},
     "output_type": "execute_result"
    }
   ],
   "source": [
    "' '.join(q.lines)"
   ]
  },
  {
   "cell_type": "markdown",
   "metadata": {},
   "source": [
    "Which you can run with any of the built-in convenience methods\n",
    "```python\n",
    "q.data() #returns result as a dictionaryu\n",
    "q.create() #returns a summary of what was created\n",
    "q.single() #returns the first result\n",
    "q.only() #returns the only result, but throws an exception if there is not 1 and only 1 result\n",
    "```"
   ]
  }
 ],
 "metadata": {
  "kernelspec": {
   "display_name": "Python 3 (ipykernel)",
   "language": "python",
   "name": "python3"
  }
 },
 "nbformat": 4,
 "nbformat_minor": 4
}
