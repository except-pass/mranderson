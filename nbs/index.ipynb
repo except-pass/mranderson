{
 "cells": [
  {
   "cell_type": "code",
   "execution_count": null,
   "metadata": {},
   "outputs": [],
   "source": [
    "#hide\n"
   ]
  },
  {
   "cell_type": "markdown",
   "metadata": {},
   "source": [
    "# Mr. Anderson\n",
    "\n",
    "Expect simple access to Neo(4J)\n",
    "\n",
    "\n",
    "> Agent Smith: You look surprised to see me, again, Mr. Anderson. That's the difference between us. I've been *expecting* you."
   ]
  },
  {
   "cell_type": "code",
   "execution_count": null,
   "metadata": {},
   "outputs": [],
   "source": [
    "from mranderson import Query"
   ]
  }
 ],
 "metadata": {
  "kernelspec": {
   "display_name": "Python 3 (ipykernel)",
   "language": "python",
   "name": "python3"
  }
 },
 "nbformat": 4,
 "nbformat_minor": 4
}
