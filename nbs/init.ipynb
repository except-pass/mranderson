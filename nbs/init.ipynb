{
 "cells": [
  {
   "cell_type": "code",
   "execution_count": null,
   "id": "e8c2cad0-8732-4d1e-bf2a-549110e6b773",
   "metadata": {},
   "outputs": [
    {
     "name": "stdout",
     "output_type": "stream",
     "text": [
      "Converted init.ipynb.\n"
     ]
    }
   ],
   "source": [
    "# default_exp __init__\n",
    "# hide\n",
    "_FNAME='init'\n",
    "\n",
    "import unittest\n",
    "from unittest import mock\n",
    "from nbdev.export import notebook2script\n",
    "import os\n",
    "TESTCASE = unittest.TestCase()\n",
    "_nbpath = os.path.join(_dh[0], _FNAME+'.ipynb')\n",
    "notebook2script(_nbpath)"
   ]
  },
  {
   "cell_type": "code",
   "execution_count": null,
   "id": "ec577bda-ec28-4070-be7c-61671b722615",
   "metadata": {},
   "outputs": [],
   "source": [
    "#export\n",
    "\n",
    "#NEO4J_VERSION = '3.5.3'\n",
    "NEO4J_VERSION = '4.3.2'\n",
    "\n",
    "from mranderson.db import *"
   ]
  }
 ],
 "metadata": {
  "kernelspec": {
   "display_name": "Python 3 (ipykernel)",
   "language": "python",
   "name": "python3"
  }
 },
 "nbformat": 4,
 "nbformat_minor": 5
}
