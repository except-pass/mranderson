{
 "cells": [
  {
   "cell_type": "code",
   "execution_count": null,
   "id": "ad1187e7-6d4b-401b-8a0f-560a01925ff9",
   "metadata": {},
   "outputs": [
    {
     "name": "stdout",
     "output_type": "stream",
     "text": [
      "Converted node.ipynb.\n"
     ]
    }
   ],
   "source": [
    "# default_exp node\n",
    "# hide\n",
    "_FNAME='node'\n",
    "\n",
    "import unittest\n",
    "from unittest import mock\n",
    "from nbdev.export import notebook2script\n",
    "import os\n",
    "TESTCASE = unittest.TestCase()\n",
    "_nbpath = os.path.join(_dh[0], _FNAME+'.ipynb')\n",
    "notebook2script(_nbpath)"
   ]
  },
  {
   "cell_type": "code",
   "execution_count": null,
   "id": "bdf098d6-6069-409c-8f55-7def82c477c1",
   "metadata": {},
   "outputs": [],
   "source": [
    "#export\n",
    "import json\n",
    "import mranderson.db as db\n",
    "from mranderson.db import Query, MATCH, RETURN, NoSearchResults\n"
   ]
  },
  {
   "cell_type": "code",
   "execution_count": null,
   "id": "a2939f92-526c-4499-b406-9f10efb33775",
   "metadata": {},
   "outputs": [],
   "source": [
    "from mranderson.sandbox import start_neo4j, start_fresh, create_totem\n",
    "container_name = 'mranderson_node_unittest'\n",
    "container, driver = start_neo4j(container_name=container_name)"
   ]
  },
  {
   "cell_type": "code",
   "execution_count": null,
   "id": "8de44505-69f8-4313-b3df-9d3ec794434f",
   "metadata": {},
   "outputs": [],
   "source": [
    "#export\n",
    "\n",
    "#alias node.txt as db.node as a convenience\n",
    "txt = db.node\n",
    "\n",
    "def create(node_text:str):\n",
    "    '''\n",
    "    Creates the node described in node_text\n",
    "    '''\n",
    "    q = Query()\n",
    "    q.add(\"CREATE\")\n",
    "    q.add(node_text)\n",
    "    return q.create()\n",
    "\n",
    "def exists(*args, **kwargs) -> bool:\n",
    "    '''\n",
    "    args and kwargs are passed along to `node`\n",
    "    Returns a bool on whether or not this node exists in the database\n",
    "    If several nodes exist, you still only get `True`\n",
    "    '''\n",
    "    q = Query()\n",
    "    q.add(\"MATCH\")\n",
    "    q.add(db.node(*args, variable='var', **kwargs))\n",
    "    q.add('RETURN count(var) as num')\n",
    "    #use single here because count always returns a single value\n",
    "    #this query just returns the number of nodes as a number, not the nodes themselves\n",
    "    resp = q.single()\n",
    "    return resp > 0\n",
    "\n",
    "def set_properties(label:str, search_properties:dict, node_properties:dict=None):\n",
    "    '''\n",
    "    Find a node of and set properties to it.  The node must exist or this will fail\n",
    "    label: string of the node Label\n",
    "    search_properties: dict of properties the existing node must have.  e.g. eid=\"abc123\"\n",
    "    additional kwargs will be applied to the node\n",
    "    '''\n",
    "    query = Query()\n",
    "    var = 'var'\n",
    "    query.add(MATCH(label, var, **search_properties))\n",
    "    for prop, val in node_properties.items():\n",
    "        query.add('SET var.{prop}={jsonval}'.format(\n",
    "                    prop=prop,\n",
    "                    jsonval=json.dumps(val)))\n",
    "    resp = query.create()\n",
    "    return resp\n",
    "\n",
    "def ensure(label:str, search_properties:dict, node_properties:dict=None):\n",
    "    '''\n",
    "    Ensure a node with search_properties exists.  If it does not, then create it.\n",
    "    Finally, set the nodes properties to node_properties.  It should retain all vital_properties.\n",
    "    \n",
    "    If the node existed before and had properties, those properties are unchanged unless they\n",
    "    are included in node_properties.\n",
    "    '''\n",
    "    node_vitals = db.node(label, 'node', **search_properties)\n",
    "    node_properties = {} if node_properties is None else node_properties\n",
    "    \n",
    "    if not exists(label, **search_properties):\n",
    "        create(node_vitals)\n",
    "    \n",
    "    if node_properties:\n",
    "        set_properties(label, search_properties, node_properties)\n",
    "        "
   ]
  },
  {
   "cell_type": "code",
   "execution_count": null,
   "id": "0673863c-26b4-44ab-9e93-f91944d62307",
   "metadata": {},
   "outputs": [
    {
     "name": "stdout",
     "output_type": "stream",
     "text": [
      "{'id': 1, 'value': 2, 'othervalue': 3}\n",
      "SUCCESS\n"
     ]
    }
   ],
   "source": [
    "def test_ensure():\n",
    "    TESTCASE.assertTrue(start_fresh())\n",
    "    create_totem()\n",
    "    TESTCASE.assertTrue(exists('Totem'))\n",
    "\n",
    "    TESTCASE.assertFalse(exists('Test'))\n",
    "    ensure('Test', search_properties={'id': 1}, node_properties={'value': 2})\n",
    "    TESTCASE.assertTrue(exists('Test'))\n",
    "    \n",
    "    ensure('Test', search_properties={'id': 1}, node_properties={'othervalue': 3})\n",
    "    data = db.fetch('Test', id=1)\n",
    "    TESTCASE.assertDictEqual(data, {'id': 1, 'value': 2, 'othervalue': 3})\n",
    "    print(data)\n",
    "    \n",
    "    print(\"SUCCESS\")\n",
    "test_ensure()"
   ]
  },
  {
   "cell_type": "code",
   "execution_count": null,
   "id": "38b70b33-c8db-4b7f-8372-2c78bbb636d2",
   "metadata": {},
   "outputs": [],
   "source": [
    "#export\n",
    "def get_properties(label, properties, **kwargs):\n",
    "    '''\n",
    "    label: str\n",
    "        The label of the node youre looking for.  e.g. Equipment\n",
    "    properties: iterable\n",
    "        A list or tuple of the strings of property names\n",
    "    Any additional kwargs will go to searching for the node.  e.g. {\"eid\": \"device_eid\"}\n",
    "    Returns list of the properties of the node.  Node must be unique.\n",
    "    '''\n",
    "    query = Query()\n",
    "    query.add(MATCH(label, 'var', **kwargs))\n",
    "    returnprops = ['var.{}'.format(prop) for prop in properties]\n",
    "    query.add(RETURN(','.join(returnprops)))\n",
    "\n",
    "    try:\n",
    "        resp = query.only()\n",
    "    except NoSearchResults:\n",
    "        return []\n",
    "    return [resp['var.{}'.format(prop)] for prop in properties]"
   ]
  },
  {
   "cell_type": "code",
   "execution_count": null,
   "id": "8cf2cb2d-6f61-4227-bbf8-bd7a5f1c7f38",
   "metadata": {},
   "outputs": [],
   "source": [
    "container.stop()"
   ]
  }
 ],
 "metadata": {
  "kernelspec": {
   "display_name": "Python 3 (ipykernel)",
   "language": "python",
   "name": "python3"
  }
 },
 "nbformat": 4,
 "nbformat_minor": 5
}
