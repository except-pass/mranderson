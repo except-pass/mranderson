{
 "cells": [
  {
   "cell_type": "code",
   "execution_count": null,
   "id": "f4d3ccf4-e6ee-411f-a34f-1d77308dda92",
   "metadata": {},
   "outputs": [
    {
     "name": "stdout",
     "output_type": "stream",
     "text": [
      "Converted db.ipynb.\n"
     ]
    }
   ],
   "source": [
    "# default_exp db\n",
    "# hide\n",
    "_FNAME='db'\n",
    "\n",
    "import unittest\n",
    "from unittest import mock\n",
    "from nbdev.export import notebook2script\n",
    "import os\n",
    "TESTCASE = unittest.TestCase()\n",
    "_nbpath = os.path.join(_dh[0], _FNAME+'.ipynb')"
   ]
  },
  {
   "cell_type": "markdown",
   "id": "7d98dafa-4811-4e95-a1a4-1b69e3163925",
   "metadata": {},
   "source": [
    "# db\n",
    "\n",
    "Syntactic sugar for generating cypher and querying neo4j.  Useful functions for common actions1"
   ]
  },
  {
   "cell_type": "code",
   "execution_count": null,
   "id": "0f303d88-4c17-4f13-abcf-b675dd8520cd",
   "metadata": {},
   "outputs": [],
   "source": [
    "#export\n",
    "import json\n",
    "import time\n",
    "import os\n",
    "import atexit\n",
    "import logging\n",
    "\n",
    "import neo4j\n",
    "import neo4j.exceptions as neo4jexceptions\n",
    "\n",
    "from retrying import retry\n",
    "logger = logging.getLogger()"
   ]
  },
  {
   "cell_type": "markdown",
   "id": "e2e27d74-2aaa-44c3-85e7-d37a7b3a1951",
   "metadata": {},
   "source": [
    "## Default Values"
   ]
  },
  {
   "cell_type": "code",
   "execution_count": null,
   "id": "43b69a15-cbac-467b-96a3-9cd1ab11d44c",
   "metadata": {},
   "outputs": [],
   "source": [
    "#export\n",
    "DEFAULT_AUTH = 'neo4j/neo4jadmin'\n",
    "\n",
    "neo_uri = os.environ.get('NEO4J_URI', 'localhost:7687')\n",
    "neo_auth = os.environ.get('NEO4J_AUTH', DEFAULT_AUTH)\n",
    "uri = 'bolt://{0}'.format(neo_uri)\n",
    "logger.info('Connecting to {0}'.format(uri))"
   ]
  },
  {
   "cell_type": "markdown",
   "id": "da14c23f-5ed4-4916-a148-e487c20fb26e",
   "metadata": {},
   "source": [
    "## Custom Exceptions"
   ]
  },
  {
   "cell_type": "code",
   "execution_count": null,
   "id": "8960eac8-56d0-425d-b4bd-76f80f958efa",
   "metadata": {},
   "outputs": [],
   "source": [
    "#export\n",
    "\n",
    "class BoltConnectionUnsuccessful(Exception):\n",
    "    pass\n",
    "class MultipleSearchResults(Exception):\n",
    "    pass\n",
    "class NoSearchResults(Exception):\n",
    "    pass"
   ]
  },
  {
   "cell_type": "markdown",
   "id": "ff8e3d01-5dcc-4c4a-88e5-4396795aa5ac",
   "metadata": {},
   "source": [
    "## Driver Management"
   ]
  },
  {
   "cell_type": "code",
   "execution_count": null,
   "id": "f9c4e649-76a9-4f52-b53a-a26aaa18592f",
   "metadata": {},
   "outputs": [],
   "source": [
    "#export\n",
    "\n",
    "DEFAULT_DRIVER = None\n",
    "\n",
    "@retry(wait_fixed=2000, stop_max_attempt_number=10)\n",
    "def make_driver(uri=uri, auth=neo_auth, container=None):\n",
    "    '''\n",
    "    Create a driver for neo4j database.\n",
    "    uri: str\n",
    "        The uri to the bolt port of the database\n",
    "    auth: str\n",
    "        auth string in the form of user/password\n",
    "    container: docker container object\n",
    "        If provider, the uri will be figured out automatically by examining the container.\n",
    "        uri will be ignored if container is provided\n",
    "    '''\n",
    "    if container:\n",
    "        uri=\"bolt://0.0.0.0:{}\".format(container.port.bolt)\n",
    "    try:\n",
    "        return neo4j.GraphDatabase.driver(uri, auth=tuple(auth.split('/')))\n",
    "    except OSError:\n",
    "        raise BoltConnectionUnsuccessful('Could not connect to the neo4j bolt server at {}'.format(uri))\n",
    "\n",
    "def set_default_driver(driver):\n",
    "    global DEFAULT_DRIVER\n",
    "    DEFAULT_DRIVER = driver\n",
    "        \n",
    "def default_driver(uri=uri, auth=neo_auth, force_remake=False):\n",
    "    global DEFAULT_DRIVER\n",
    "    if force_remake:\n",
    "        DEFAULT_DRIVER = None\n",
    "    if DEFAULT_DRIVER is None:\n",
    "        driver = make_driver(uri=uri, auth=auth)\n",
    "        atexit.register(driver.close)\n",
    "        set_default_driver(driver)\n",
    "    else:\n",
    "        driver = DEFAULT_DRIVER\n",
    "    return driver\n",
    "\n",
    "def tearDown():\n",
    "    global DEFAULT_DRIVER\n",
    "    if DEFAULT_DRIVER is not None:\n",
    "        DEFAULT_DRIVER.close()\n",
    "    DEFAULT_DRIVER = None"
   ]
  },
  {
   "cell_type": "markdown",
   "id": "b834cd8a-da72-4fa7-9fbb-50520fa7f5a7",
   "metadata": {},
   "source": [
    "## Query"
   ]
  },
  {
   "cell_type": "code",
   "execution_count": null,
   "id": "2358d1a9-ba88-4d83-ac6c-eac1c7e52258",
   "metadata": {},
   "outputs": [],
   "source": [
    "# export\n",
    "\n",
    "class Query(object):\n",
    "    '''\n",
    "    A cypher query object.  The flow here is to instantiate a query\n",
    "    then add lines to it.  It is only sent to the server when you execute\n",
    "    the query with .results, .data, .create, etc.\n",
    "    \n",
    "    e.g. To get a few nodes\n",
    "    q = Query()\n",
    "    q.add(\"MATCH (n)\")\n",
    "    q.add(\"RETURN n LIMIT 5\")\n",
    "    q.data()\n",
    "    '''\n",
    "    def __init__(self, driver=None):\n",
    "        self.driver = default_driver() if driver is None else driver\n",
    "        self.lines = []\n",
    "\n",
    "    def add(self, line):\n",
    "        self.lines.append(line)\n",
    "\n",
    "    def _make_response(self, session, parameters=None):\n",
    "        return session.run('\\n'.join(self.lines), parameters=parameters)\n",
    "\n",
    "    def results(self, parameters=None):\n",
    "        '''\n",
    "        This got broken as of version 4.1.  I renamed it so that it will crash\n",
    "        older code on purpose.\n",
    "        '''\n",
    "        with self.driver.session() as session:\n",
    "            resp = self._make_response(session, parameters)\n",
    "            records = [r for r in resp]\n",
    "        return records\n",
    "\n",
    "    def data(self, parameters=None):\n",
    "        \"\"\"\n",
    "        Returns all the data\n",
    "        \"\"\"\n",
    "        try:\n",
    "            with self.driver.session() as session:\n",
    "                resp = self._make_response(session, parameters)\n",
    "                data = resp.data()\n",
    "                return data\n",
    "        except TypeError as typeerror:\n",
    "            raise NoSearchResults('No results found from query {q} with params {p}'.format(\n",
    "                        q=self.lines, p=parameters)) from typeerror\n",
    "\n",
    "    def single(self, parameters=None):\n",
    "        \"\"\"\n",
    "        Returns the first result.  Thorws an exception if there are no results.\n",
    "        \"\"\"\n",
    "        try:\n",
    "            with self.driver.session() as session:\n",
    "                resp = self._make_response(session, parameters)\n",
    "                data = resp.single()[0]\n",
    "                return data\n",
    "        except TypeError as typeerror:\n",
    "            raise NoSearchResults('No results found from query {q} with params {p}'.format(\n",
    "                        q=self.lines, p=parameters)) from typeerror\n",
    "\n",
    "    def only(self, parameters=None):\n",
    "        \"\"\"\n",
    "        Use if you expect only a single result to come back.  Throws an\n",
    "        exception unless there is one and only one result.\n",
    "        \"\"\"\n",
    "        rd = self.data(parameters)\n",
    "        if len(rd) > 1:\n",
    "            raise MultipleSearchResults('Multiple entries found for query {q} with params {p}'.format(\n",
    "                            q=self.lines, p=parameters))\n",
    "        try:\n",
    "            return rd[0]\n",
    "        except IndexError as indexerror:\n",
    "            raise NoSearchResults('No results found from query {q} with params {p}'.format(\n",
    "                        q=self.lines, p=parameters)) from indexerror\n",
    "            \n",
    "    def create(self, parameters=None):\n",
    "        \"\"\"\n",
    "        Use to create nodes\n",
    "        Returns a summary of how many were created\n",
    "        \"\"\"\n",
    "        with self.driver.session() as session:\n",
    "            resp = self._make_response(session, parameters)\n",
    "            counters = resp.consume().counters\n",
    "        return counters"
   ]
  },
  {
   "cell_type": "markdown",
   "id": "c2fbbb63-faff-4cad-8c45-a75092490013",
   "metadata": {},
   "source": [
    "## Generate snippets of cypher text"
   ]
  },
  {
   "cell_type": "code",
   "execution_count": null,
   "id": "3d0102c6-aacb-429d-91da-918c9d196cb4",
   "metadata": {},
   "outputs": [],
   "source": [
    "#export\n",
    "\n",
    "def node(label=None, variable=None, **kwargs) -> str:\n",
    "    '''\n",
    "    Returns node text of the form\n",
    "    (var_name:Label {key:value, key2:value2...})\n",
    "    '''\n",
    "    variable = variable if variable is not None else ''\n",
    "    label = label if label is not None else []\n",
    "    qstr = \"({var}\".format(var=variable)\n",
    "\n",
    "    if isinstance(label, str):\n",
    "        label = [label]\n",
    "\n",
    "    for lab in label:\n",
    "        qstr += \":{label}\".format(label=lab)\n",
    "\n",
    "    if kwargs:\n",
    "        qstr+= ' {'\n",
    "\n",
    "    props = []\n",
    "    for name, value in kwargs.items():\n",
    "        props.append(\"{name}: {value}\".format(name=name, value=json.dumps(value)))\n",
    "\n",
    "    if kwargs:\n",
    "        qstr+= ','.join(props)\n",
    "        qstr+= '}'\n",
    "    qstr += ')'\n",
    "    return qstr\n",
    "\n",
    "def relationship(rel_type, _name=None, **kwargs) -> str:\n",
    "    '''\n",
    "    Returns relationship text in the form\n",
    "    [var_name: REL_TYPE {key: value,...}]\n",
    "    '''\n",
    "    name = '' if _name is None else _name\n",
    "    qstr='[{name}:{rel_type}'.format(name=name, rel_type=rel_type)\n",
    "    if kwargs:\n",
    "        qstr+= ' {'\n",
    "\n",
    "    props = []\n",
    "    for name, value in kwargs.items():\n",
    "        props.append('{name}: \"{value}\"'.format(name=name, value=value))\n",
    "\n",
    "    if kwargs:\n",
    "        qstr+= ','.join(props)\n",
    "        qstr+= '}'\n",
    "    qstr+= ']'\n",
    "    return qstr\n",
    "\n",
    "def MATCH(label, variable=None, **kwargs) -> str:\n",
    "    return \"MATCH {node}\".format(node=node(label, variable, **kwargs))\n",
    "\n",
    "def RETURN(*args) -> str:\n",
    "    return \"RETURN {0}\".format(', '.join(args))\n",
    "\n",
    "def WITH(*args) -> str:\n",
    "    return \"WITH {0}\".format(', '.join(args))"
   ]
  },
  {
   "cell_type": "code",
   "execution_count": null,
   "id": "b04a65ee-236c-4db5-b40d-f35aa7315118",
   "metadata": {},
   "outputs": [],
   "source": [
    "TESTCASE.assertEqual(node('Thing', 'var', id='abc'), '(var:Thing {id: \"abc\"})')\n",
    "TESTCASE.assertEqual(node('Thing', 'var'), '(var:Thing)')\n",
    "TESTCASE.assertEqual(node('Thing', 'var', id='abc', name='unittest'), '(var:Thing {id: \"abc\",name: \"unittest\"})')\n",
    "\n",
    "TESTCASE.assertEqual(relationship('LOVES'), '[:LOVES]')\n",
    "TESTCASE.assertEqual(relationship('LOVES', 'rel_name', name='property name'), '[rel_name:LOVES {name: \"property name\"}]')"
   ]
  },
  {
   "cell_type": "code",
   "execution_count": null,
   "id": "50d1fcf8-d16d-486e-9da5-e6be358e035e",
   "metadata": {},
   "outputs": [],
   "source": [
    "#export\n",
    "\n",
    "def node_to_dict(resp:dict):\n",
    "    return {key: dict(value) for key, value in resp.items()}\n",
    "\n",
    "def fetch(label, **kwargs) -> dict:\n",
    "    '''\n",
    "    Query for a single node by label and properties and return it as a dictionary\n",
    "    '''\n",
    "    query = Query()\n",
    "    var = 'var'\n",
    "    query.add(MATCH(label, var, **kwargs))\n",
    "    query.add(RETURN(var))\n",
    "    return node_to_dict(query.only())[var]"
   ]
  },
  {
   "cell_type": "markdown",
   "id": "b1d37e02-1088-4ae8-b181-8c25017ab4d6",
   "metadata": {},
   "source": [
    "## Common actions"
   ]
  },
  {
   "cell_type": "markdown",
   "id": "0614b17e-23a8-47ab-8b57-58e70cdd9ce2",
   "metadata": {},
   "source": [
    "### Relationships"
   ]
  },
  {
   "cell_type": "code",
   "execution_count": null,
   "id": "28640322-e717-40c8-a473-cb6b8e720329",
   "metadata": {},
   "outputs": [],
   "source": [
    "#export\n",
    "\n",
    "def link(node1, node1name, node2, node2name, rel_type, **rel_kwargs):\n",
    "    \"\"\"\n",
    "    Create relationship (node1)-[:rel_type]->(node2)\n",
    "    node1 and node2 must already exist.\n",
    "    \n",
    "    node1: str describing a cypher node\n",
    "    node1name: the variable name used in node1\n",
    "    rel_type: the type of relationship we are creating from node1 to node2\n",
    "    rel_kwargs: the properties you want the relationship to have, if any\n",
    "    \"\"\"\n",
    "    query = Query()\n",
    "    query.add(\"MATCH {}\".format(node1))\n",
    "    query.add(\"WITH {}\".format(node1name))\n",
    "    query.add(\"MATCH {}\".format(node2))\n",
    "    rel_str = relationship(rel_type, name=None, **rel_kwargs)\n",
    "    query.add(\"MERGE ({n1n})-{rel_str}->({n2n})\".format(n1n=node1name, rel_str=rel_str, n2n=node2name))\n",
    "    resp = query.create()\n",
    "    return resp\n",
    "\n",
    "def unlink(source: str, target:str, relationship:str):\n",
    "    '''\n",
    "    Delete the relationship between the source and target nodes\n",
    "    (source)-[:RELATIONSHIP]->(target)\n",
    "    source: str\n",
    "        Cypher string of source node\n",
    "    target: str\n",
    "        Cypher string of target node\n",
    "    relationship: str\n",
    "        Type of relationship to delete\n",
    "        \n",
    "    Returns a query response\n",
    "    '''\n",
    "    query = Query()\n",
    "    query.add(\"MATCH {source}-[rel:{rel}]->{target}\".format(source=source, rel=relationship, target=target))\n",
    "    query.add(\"DELETE rel\")\n",
    "    query.add(RETURN('rel'))\n",
    "    return query.create()"
   ]
  },
  {
   "cell_type": "code",
   "execution_count": null,
   "id": "93b77235-b98e-44f2-a526-d158e3d7e2f9",
   "metadata": {},
   "outputs": [
    {
     "ename": "NameError",
     "evalue": "name 'notebook2script' is not defined",
     "output_type": "error",
     "traceback": [
      "\u001b[0;31m---------------------------------------------------------------------------\u001b[0m",
      "\u001b[0;31mNameError\u001b[0m                                 Traceback (most recent call last)",
      "\u001b[0;32m/tmp/ipykernel_8243/113291047.py\u001b[0m in \u001b[0;36m<module>\u001b[0;34m\u001b[0m\n\u001b[0;32m----> 1\u001b[0;31m \u001b[0mnotebook2script\u001b[0m\u001b[0;34m(\u001b[0m\u001b[0m_nbpath\u001b[0m\u001b[0;34m)\u001b[0m\u001b[0;34m\u001b[0m\u001b[0;34m\u001b[0m\u001b[0m\n\u001b[0m",
      "\u001b[0;31mNameError\u001b[0m: name 'notebook2script' is not defined"
     ]
    }
   ],
   "source": [
    "notebook2script(_nbpath)"
   ]
  }
 ],
 "metadata": {
  "kernelspec": {
   "display_name": "Python 3 (ipykernel)",
   "language": "python",
   "name": "python3"
  }
 },
 "nbformat": 4,
 "nbformat_minor": 5
}
