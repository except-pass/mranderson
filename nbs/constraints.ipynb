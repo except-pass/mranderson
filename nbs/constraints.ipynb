{
 "cells": [
  {
   "cell_type": "code",
   "execution_count": null,
   "id": "8cd05437-34ac-4ea9-b7aa-57b11aa061a9",
   "metadata": {},
   "outputs": [
    {
     "name": "stdout",
     "output_type": "stream",
     "text": [
      "Converted constraints.ipynb.\n"
     ]
    }
   ],
   "source": [
    "# default_exp constraints\n",
    "# hide\n",
    "_FNAME='constraints'\n",
    "\n",
    "import unittest\n",
    "from unittest import mock\n",
    "from nbdev.export import notebook2script\n",
    "import os\n",
    "TESTCASE = unittest.TestCase()\n",
    "_nbpath = os.path.join(_dh[0], _FNAME+'.ipynb')\n",
    "notebook2script(_nbpath)"
   ]
  },
  {
   "cell_type": "code",
   "execution_count": null,
   "id": "3bbc82a0-518d-40a2-9657-94d370909d93",
   "metadata": {},
   "outputs": [],
   "source": [
    "#export\n",
    "import logging\n",
    "logger = logging.getLogger()\n",
    "import traceback\n",
    "from neo4j.exceptions import ClientError\n",
    "from mranderson import Query\n",
    "\n",
    "def uniqueness(label:str, property_name:str, safely=True):\n",
    "    '''\n",
    "    Adds a uniqueness constraint on the property property_name on nodes of label\n",
    "    e.g. uniqueness('Device', 'device_id') --> Device nodes must have a unique 'device_id' property\n",
    "    \n",
    "    safely: If False, throw an exception if the constraint already exists\n",
    "    '''\n",
    "    constraint = \"CREATE CONSTRAINT ON (node:{label}) ASSERT node.{property_name} IS UNIQUE\".format(\n",
    "            label=label, property_name=property_name)\n",
    "    q = Query()\n",
    "    q.add(constraint)\n",
    "    try:\n",
    "        resp = q.create()\n",
    "    except ClientError as e:\n",
    "        logger.info(\"Constraint {} already exists\".format(constraint))\n",
    "        if not safely:\n",
    "            raise e"
   ]
  },
  {
   "cell_type": "code",
   "execution_count": null,
   "id": "d483a0d1-c5c1-48cd-9bc9-552796196521",
   "metadata": {},
   "outputs": [],
   "source": [
    "from mranderson.sandbox import start_neo4j, start_fresh, create_totem\n",
    "container_name = 'mranderson_constraints_unittest'\n",
    "container, driver = start_neo4j(container_name=container_name)"
   ]
  },
  {
   "cell_type": "code",
   "execution_count": null,
   "id": "016c9cb8-a6ec-4dcc-a817-9f91ffdb9f09",
   "metadata": {},
   "outputs": [
    {
     "name": "stdout",
     "output_type": "stream",
     "text": [
      "SUCCESS\n"
     ]
    }
   ],
   "source": [
    "import mranderson.node as node\n",
    "from neo4j.exceptions import ConstraintError\n",
    "\n",
    "def test_uniqueness():\n",
    "    TESTCASE.assertTrue(start_fresh())\n",
    "    create_totem()\n",
    "    \n",
    "    uniqueness('Test', 'eid')\n",
    "    #creating the constraint safely is idempotent\n",
    "    uniqueness('Test', 'eid', safely=True)\n",
    "    \n",
    "    node.create(\"(:Test {eid:1})\")\n",
    "    \n",
    "    #new nodes with eid=1 cannot be created\n",
    "    with TESTCASE.assertRaises(ConstraintError):\n",
    "        node.create(\"(:Test {eid:1})\")\n",
    "\n",
    "    #nodes with different eid are OK\n",
    "    node.create(\"(:Test {eid:2})\")\n",
    "    \n",
    "    #creating the constraint again without `safely` fails\n",
    "    with TESTCASE.assertRaises(ClientError):\n",
    "        uniqueness('Test', 'eid', safely=False)\n",
    "    print(\"SUCCESS\")\n",
    "                \n",
    "test_uniqueness()"
   ]
  },
  {
   "cell_type": "code",
   "execution_count": null,
   "id": "c8d35fdc-42ef-4f97-8bea-f026ccf4ba45",
   "metadata": {},
   "outputs": [],
   "source": [
    "container.stop()"
   ]
  }
 ],
 "metadata": {
  "kernelspec": {
   "display_name": "Python 3 (ipykernel)",
   "language": "python",
   "name": "python3"
  }
 },
 "nbformat": 4,
 "nbformat_minor": 5
}
